{
  "cells": [
    {
      "cell_type": "markdown",
      "source": [
        "# LAB 1"
      ],
      "metadata": {
        "id": "_WsSjjeruA3E"
      }
    },
    {
      "cell_type": "markdown",
      "metadata": {
        "id": "Lof0O-o5sc8d"
      },
      "source": [
        "## 1. Өгөгдсөн хүснэгтээс нийт ялгаатай утгатай элемэнтүүдийн тоог ол."
      ]
    },
    {
      "cell_type": "code",
      "source": [
        "array = [1, 2, 3, 4, 5, 5, 4, 3, 2, 1]\n",
        "duplicates = set(array)\n",
        "print(len(duplicates))"
      ],
      "metadata": {
        "id": "G6xpfRmNsrQy",
        "colab": {
          "base_uri": "https://localhost:8080/"
        },
        "outputId": "8d7bb5cf-a67a-4daf-a589-4746d690ae5b"
      },
      "execution_count": null,
      "outputs": [
        {
          "output_type": "stream",
          "name": "stdout",
          "text": [
            "5\n"
          ]
        }
      ]
    },
    {
      "cell_type": "markdown",
      "metadata": {
        "id": "x6La16jRsc8l"
      },
      "source": [
        "## 2. Өгөгдсөн өгүүлбэрийн үг бүр нь хэдэн удаа давтагдсанг ол."
      ]
    },
    {
      "cell_type": "code",
      "execution_count": null,
      "metadata": {
        "id": "csgp-RuIsc8o",
        "colab": {
          "base_uri": "https://localhost:8080/"
        },
        "outputId": "364ceeeb-c25c-4628-ba75-eb13d5234238"
      },
      "outputs": [
        {
          "output_type": "stream",
          "name": "stdout",
          "text": [
            "neg: 2\n",
            "hoyr: 2\n",
            "gurav: 1\n",
            "duruv: 1\n",
            "tav: 1\n"
          ]
        }
      ],
      "source": [
        "sentence = \"neg hoyr neg gurav duruv hoyr tav\"\n",
        "\n",
        "word_counts = {}\n",
        "for word in sentence.split():\n",
        "    if word in word_counts:\n",
        "        word_counts[word] += 1\n",
        "    else:\n",
        "        word_counts[word] = 1\n",
        "\n",
        "for word, count in word_counts.items():\n",
        "    print(f\"{word}: {count}\")"
      ]
    },
    {
      "cell_type": "markdown",
      "metadata": {
        "id": "xOvyWsnqsc8p"
      },
      "source": [
        "## 3. Өгөгдсөн хүснэгтээс 'xyz' тэмдэгт мөрийг агуулсан тэмдэгт мөрүүдийг хэвлэ.\n"
      ]
    },
    {
      "cell_type": "code",
      "execution_count": null,
      "metadata": {
        "id": "k4SscqLPsc8r",
        "outputId": "a628553b-3e9d-4ac5-c5da-dcc602fd7d47",
        "colab": {
          "base_uri": "https://localhost:8080/"
        }
      },
      "outputs": [
        {
          "output_type": "stream",
          "name": "stdout",
          "text": [
            "aaaxyz\n",
            "xaaasdxyz\n"
          ]
        }
      ],
      "source": [
        "arr = ['aaaxyz', 'test', 'oop', 'xaaasdxyz', 'machine']\n",
        "\n",
        "for s in arr:\n",
        "    if 'xyz' in s:\n",
        "        print(s)"
      ]
    },
    {
      "cell_type": "markdown",
      "metadata": {
        "id": "1KboTcoAsc8t"
      },
      "source": [
        "## 4. Өгөгдсөн хүснэгтээс 'xyz' тэмдэгт мөрөөр эхэлсэн эсвэл төгссөн тэмдэгт мөрүүдийг хэвлэ."
      ]
    },
    {
      "cell_type": "code",
      "execution_count": null,
      "metadata": {
        "colab": {
          "base_uri": "https://localhost:8080/"
        },
        "id": "2uwnxOLtsc8v",
        "outputId": "f13f77b7-dc90-4881-ccfd-51dc94297bc7"
      },
      "outputs": [
        {
          "output_type": "stream",
          "name": "stdout",
          "text": [
            "aaaxyz\n",
            "xaaasdxyz\n",
            "xyzaaa\n"
          ]
        }
      ],
      "source": [
        "arr = ['aaaxyz', 'aaa', 'xaaasdxyz', 'xyzaaa', 'test']\n",
        "\n",
        "for s in arr:\n",
        "    if s.startswith('xyz') or s.endswith('xyz'):\n",
        "        print(s)"
      ]
    },
    {
      "cell_type": "markdown",
      "metadata": {
        "id": "FvXT6i4Tsc8x"
      },
      "source": [
        "## 5. Хамгийн эхний анхны 50 тоог олох функц бич."
      ]
    },
    {
      "cell_type": "code",
      "execution_count": null,
      "metadata": {
        "id": "TwBmNXp4sc8y",
        "colab": {
          "base_uri": "https://localhost:8080/"
        },
        "outputId": "029aa4f9-c4c1-44e9-e759-4c831c44ff82"
      },
      "outputs": [
        {
          "output_type": "stream",
          "name": "stdout",
          "text": [
            "Hamgiin ehnii anhni 50 too: 1 2 3 5 7 11 13 17 19 23 29 31 37 41 43 47 "
          ]
        }
      ],
      "source": [
        "num=50\n",
        "print(\"Hamgiin ehnii anhni 50 too:\",end=' ')\n",
        "for n in range(1,num):\n",
        "    for i in range(2,n):\n",
        "        if(n%i==0):\n",
        "            break\n",
        "    else:\n",
        "        print(n,end=' ')        "
      ]
    }
  ],
  "metadata": {
    "kernelspec": {
      "display_name": "Python 3",
      "language": "python",
      "name": "python3"
    },
    "language_info": {
      "codemirror_mode": {
        "name": "ipython",
        "version": 3
      },
      "file_extension": ".py",
      "mimetype": "text/x-python",
      "name": "python",
      "nbconvert_exporter": "python",
      "pygments_lexer": "ipython3",
      "version": "3.10.2"
    },
    "orig_nbformat": 4,
    "vscode": {
      "interpreter": {
        "hash": "369f2c481f4da34e4445cda3fffd2e751bd1c4d706f27375911949ba6bb62e1c"
      }
    },
    "colab": {
      "provenance": []
    }
  },
  "nbformat": 4,
  "nbformat_minor": 0
}